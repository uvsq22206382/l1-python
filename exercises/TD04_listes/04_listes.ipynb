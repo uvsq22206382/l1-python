{
 "cells": [
  {
   "cell_type": "markdown",
   "metadata": {},
   "source": [
    "# TD 4: Listes"
   ]
  },
  {
   "cell_type": "markdown",
   "metadata": {},
   "source": [
    "---\n",
    "\n",
    "## 1. Débuts avec les listes\n",
    "\n",
    "Dans cette partie, il faut écrire les réponses directement dans le notebook. En plus du cours, n'hésitez pas à consulter la documentation (tutoriel) Python sur les listes [ici (introduction aux listes)](https://docs.python.org/fr/3.6/tutorial/introduction.html#lists) et [ici (complément sur les listes)] (https://docs.python.org/fr/3/tutorial/datastructures.html#more-on-lists).\n",
    "\n",
    "1. Créer la liste `3, 5, 10`, l'affecter à une variable, puis l'afficher."
   ]
  },
  {
   "cell_type": "code",
   "execution_count": 12,
   "metadata": {},
   "outputs": [
    {
     "name": "stdout",
     "output_type": "stream",
     "text": [
      "[3, 5, 10]\n"
     ]
    }
   ],
   "source": [
    "L1 = [3, 5, 10]\n",
    "print(L1)"
   ]
  },
  {
   "cell_type": "markdown",
   "metadata": {},
   "source": [
    "2. Ajouter ensuite 12 et 17 à la fin puis afficher à nouveau la liste."
   ]
  },
  {
   "cell_type": "code",
   "execution_count": 15,
   "metadata": {},
   "outputs": [
    {
     "name": "stdout",
     "output_type": "stream",
     "text": [
      "[3, 5, 10, 12, 17]\n"
     ]
    }
   ],
   "source": [
    "L1 = [3, 5, 10]\n",
    "L1.extend([12, 17])\n",
    "print(L1)"
   ]
  },
  {
   "cell_type": "markdown",
   "metadata": {},
   "source": [
    "3. Changer le 10 en -7."
   ]
  },
  {
   "cell_type": "code",
   "execution_count": 16,
   "metadata": {},
   "outputs": [
    {
     "name": "stdout",
     "output_type": "stream",
     "text": [
      "[3, 5, -7, 12, 17]\n"
     ]
    }
   ],
   "source": [
    "L1 = [3, 5, 10, 12, 17]\n",
    "L1[2]= -7\n",
    "print(L1)"
   ]
  },
  {
   "cell_type": "code",
   "execution_count": 19,
   "metadata": {},
   "outputs": [
    {
     "name": "stdout",
     "output_type": "stream",
     "text": [
      "[3, 5, -7, 12, 17]\n"
     ]
    }
   ],
   "source": [
    "#index veut dire indice donc c'est pour trouver l'indice du nombre entre ()\n",
    "L1 = [3, 5, 10, 12, 17]\n",
    "L1[L1.index(10)]= -7\n",
    "print(L1)"
   ]
  },
  {
   "cell_type": "markdown",
   "metadata": {},
   "source": [
    "4. Avec une boucle `for`, écrire le double de chaque élément de la liste. Cela doit afficher `[6, 10, -14, 24, 34]`. La liste doit être modifiée."
   ]
  },
  {
   "cell_type": "code",
   "execution_count": 21,
   "metadata": {},
   "outputs": [
    {
     "name": "stdout",
     "output_type": "stream",
     "text": [
      "[6, 10, -14, 24, 34]\n"
     ]
    }
   ],
   "source": [
    "L1 = [3, 5, -7, 12, 17]\n",
    "for i in range (len(L1)):\n",
    "    L1[i]=L1[i]*2\n",
    "print(L1)"
   ]
  },
  {
   "cell_type": "markdown",
   "metadata": {},
   "source": [
    "5. A l'aide d'une boucle `for`, ajouter  la valeur `i` à l'élément d'indice `i` de la liste. Cela doit afficher `[6, 11, -12, 27, 38]`. La liste doit être modifiée."
   ]
  },
  {
   "cell_type": "code",
   "execution_count": 26,
   "metadata": {},
   "outputs": [
    {
     "name": "stdout",
     "output_type": "stream",
     "text": [
      "[6, 11, -12, 27, 38]\n"
     ]
    }
   ],
   "source": [
    "L1 = [6, 10, -14, 24, 34]\n",
    "for i in range (len(L1)):\n",
    "    L1[i]=L1[i]+i\n",
    "print(L1)"
   ]
  },
  {
   "cell_type": "markdown",
   "metadata": {},
   "source": [
    "6. Tirer 10 nombres à 2 chiffres au hasard et les mettre dans une nouvelle liste (vide au départ), puis afficher la somme des entiers de la liste et le plus grand de ces entiers."
   ]
  },
  {
   "cell_type": "code",
   "execution_count": 46,
   "metadata": {},
   "outputs": [
    {
     "name": "stdout",
     "output_type": "stream",
     "text": [
      "[83, 36, 59, 96, 23, 94, 92, 70, 38, 71]\n",
      "662\n",
      "96\n"
     ]
    }
   ],
   "source": [
    "import random \n",
    "LA=[]\n",
    "S=0\n",
    "for i in range (10):\n",
    "    LA.append(random.randint(10,99))\n",
    "    S=S + LA[i]\n",
    "print(LA)\n",
    "print(sum(LA))\n",
    "print(max(LA))"
   ]
  },
  {
   "cell_type": "markdown",
   "metadata": {},
   "source": [
    "7. A partir de la liste choisie au hasard, créer une liste qui contient les éléments pairs et une deuxième liste qui contient les éléments impairs."
   ]
  },
  {
   "cell_type": "code",
   "execution_count": 47,
   "metadata": {},
   "outputs": [
    {
     "name": "stdout",
     "output_type": "stream",
     "text": [
      "[36, 96, 94, 92, 70, 38] [83, 59, 23, 71]\n"
     ]
    }
   ],
   "source": [
    "pair, unpair=[], []\n",
    "for i in LA:\n",
    "    if i % 2 == 0:\n",
    "        pair.append(i)\n",
    "    else:\n",
    "        unpair.append(i)\n",
    "print(pair,unpair)"
   ]
  },
  {
   "cell_type": "markdown",
   "metadata": {},
   "source": [
    "8. Trier la liste choisie au hasard par ordre croissant en modifiant la liste."
   ]
  },
  {
   "cell_type": "code",
   "execution_count": 48,
   "metadata": {},
   "outputs": [
    {
     "name": "stdout",
     "output_type": "stream",
     "text": [
      "23 96\n"
     ]
    }
   ],
   "source": [
    "LA.sort()\n",
    "print(min(LA),max(LA))"
   ]
  },
  {
   "cell_type": "markdown",
   "metadata": {},
   "source": [
    "9. Supprimer le plus petit et le plus grand élément de la liste triée."
   ]
  },
  {
   "cell_type": "code",
   "execution_count": 45,
   "metadata": {},
   "outputs": [],
   "source": [
    "#premier cas\n",
    "LA.remove(LA[0])\n",
    "LA.remove(LA[-1])"
   ]
  },
  {
   "cell_type": "code",
   "execution_count": null,
   "metadata": {},
   "outputs": [],
   "source": [
    "#deuxieme cas\n",
    "del LA[0]\n",
    "del LA[-1]"
   ]
  },
  {
   "cell_type": "code",
   "execution_count": 49,
   "metadata": {},
   "outputs": [],
   "source": [
    "#troisieme cas\n",
    "LA.remove(min(LA))\n",
    "LA.remove(max(LA))"
   ]
  },
  {
   "cell_type": "markdown",
   "metadata": {},
   "source": [
    "10. Créer la liste des entiers de 1 jusqu'à 52. Ces entiers représentent les cartes d'un paquet de 52 cartes."
   ]
  },
  {
   "cell_type": "code",
   "execution_count": 60,
   "metadata": {},
   "outputs": [
    {
     "name": "stdout",
     "output_type": "stream",
     "text": [
      "[1, 2, 3, 4, 5, 6, 7, 8, 9, 10, 11, 12, 13, 14, 15, 16, 17, 18, 19, 20, 21, 22, 23, 24, 25, 26, 27, 28, 29, 30, 31, 32, 33, 34, 35, 36, 37, 38, 39, 40, 41, 42, 43, 44, 45, 46, 47, 48, 49, 50, 51, 52]\n"
     ]
    }
   ],
   "source": [
    "liste_carte=[i for i in range(1,53)]\n",
    "print(liste_carte)"
   ]
  },
  {
   "cell_type": "code",
   "execution_count": 52,
   "metadata": {},
   "outputs": [],
   "source": [
    "# autre choix\n",
    "liste_carte=list(range(1,53))"
   ]
  },
  {
   "cell_type": "markdown",
   "metadata": {},
   "source": [
    " 11. Couper le jeu de carte revient à choisir un indice `i` entre 0 et 51, et à passer toutes les cartes allant des indices 0 à i-1 à la suite des cartes qui vont des indices i à 51. Ecrire le code qui effectue une coupe choisie au hasard."
   ]
  },
  {
   "cell_type": "code",
   "execution_count": 68,
   "metadata": {},
   "outputs": [
    {
     "name": "stdout",
     "output_type": "stream",
     "text": [
      "20\n",
      "[8, 16, 22, 26, 30, 34, 38, 42, 46, 50, 3, 11, 19, 14, 25, 33, 41, 49, 9, 10, 23, 31, 39, 47, 5, 2, 27, 43, 13, 35, 18, 51, 4, 12, 20, 24, 28, 32, 36, 40, 44, 48, 52, 7, 15, 6, 21, 29, 37, 45, 1, 17]\n"
     ]
    }
   ],
   "source": [
    "import random\n",
    "coupe=random.randint(0,51)\n",
    "print(coupe)\n",
    "for i in range (coupe):\n",
    "    liste_carte.append(liste_carte[i])\n",
    "    del liste_carte[i]\n",
    "print(liste_carte)"
   ]
  },
  {
   "cell_type": "code",
   "execution_count": 69,
   "metadata": {},
   "outputs": [
    {
     "name": "stdout",
     "output_type": "stream",
     "text": [
      "[23, 31, 39, 47, 5, 2, 27, 43, 13, 35, 18, 51, 4, 12, 20, 24, 28, 32, 36, 40, 44, 48, 52, 7, 15, 6, 21, 29, 37, 45, 1, 17, 8, 16, 22, 26, 30, 34, 38, 42, 46, 50, 3, 11, 19, 14, 25, 33, 41, 49, 9, 10]\n"
     ]
    }
   ],
   "source": [
    "import random\n",
    "coupe=random.randint(0,51)\n",
    "print(coupe)\n",
    "liste_carte2=[]\n",
    "for i in range (coupe, 52):\n",
    "    liste_carte2.append(liste_carte[i])\n",
    "for i in range (coupe):\n",
    "    liste_carte2.append(liste_carte[i])\n",
    "print(liste_carte2)"
   ]
  },
  {
   "cell_type": "markdown",
   "metadata": {},
   "source": [
    "---\n",
    "\n",
    "## 2. Problème de Syracuse\n",
    "\n",
    "Cette partie est à traiter dans un script que vous pouvez appeler, par exemple, `syracuse.py`.\n",
    "\n",
    "En partant d'un entier `n` de départ, on définit une suite d'entiers en obtenant chaque nouveau terme à partir du précédent soit en le divisant par 2 s'il est pair, soit en le multipliant par 3 et en ajoutant 1 s'il est impair. \n",
    "\n",
    "1. Sans écrire de programme, calculer les premières valeurs de la suite en chosissant `n = 3`.\n",
    "\n",
    "2. Ecrire la fonction qui, à partir d'un entier initial, renvoie la liste des valeurs successives jusqu'à ce que la valeur `1` soit atteinte (le dernier élément de la liste est donc toujours 1)."
   ]
  },
  {
   "cell_type": "code",
   "execution_count": 73,
   "metadata": {},
   "outputs": [
    {
     "name": "stdout",
     "output_type": "stream",
     "text": [
      "[3, 10, 5, 16, 8, 4, 2, 1]\n"
     ]
    }
   ],
   "source": [
    "def syracuse(n):\n",
    "    \"\"\" Retourne la liste des valeurs de la suite en partant de n jusqu'à 1 \"\"\"\n",
    "    Lys=[n]\n",
    "    while n != 1:\n",
    "        if n % 2==0:\n",
    "            n = n // 2\n",
    "        else:\n",
    "            n = n*3 + 1\n",
    "        Lys.append(n)\n",
    "    return Lys\n",
    "print(syracuse(3))"
   ]
  },
  {
   "cell_type": "markdown",
   "metadata": {},
   "source": [
    "3. La conjecture de Collatz (ou problème de Syracuse) affirme que, quel que soit l’entier `n` que l’on choisisse au départ, on finit toujours par arriver à 1 (ce résultat est une *conjecture*, c'est-à-dire qu'il n'a pas été démontré, mais qu'il n'existe pas de contre-exemple connu). Écrire une fonction qui, en appelant la fonction précédente, va vérifier si la conjecture est vraie pour `n` de 1 à `n_max`, où `n_max` est un paramètre de la fonction. \n",
    "\n",
    "*Remarque*: si tout se passe bien, la fonction doit juste se terminer et renvoyer `True` par exemple. Sinon, c’est qu’on sera entré dans une boucle infinie."
   ]
  },
  {
   "cell_type": "code",
   "execution_count": 78,
   "metadata": {
    "tags": []
   },
   "outputs": [
    {
     "name": "stdout",
     "output_type": "stream",
     "text": [
      "True\n"
     ]
    }
   ],
   "source": [
    "def testeConjecture(n_max):\n",
    "    \"\"\" Teste la conjecture de Collatz pour toutes les valeurs de 1 à n_max \"\"\"\n",
    "    for i in range (1, n_max+1):\n",
    "        syracuse(i)\n",
    "    return True\n",
    "print(testeConjecture(10000))"
   ]
  },
  {
   "cell_type": "markdown",
   "metadata": {},
   "source": [
    "4. On appelle *temps de vol* de l’entier `n` le nombre d’étapes pour aller de `n` jusqu’à 1. Le temps de vol de 1 est 0, le temps de vol de 3 est 7. Écrire une fonction qui, étant donné un paramètre `n`, renvoie son temps de vol."
   ]
  },
  {
   "cell_type": "code",
   "execution_count": 80,
   "metadata": {},
   "outputs": [
    {
     "name": "stdout",
     "output_type": "stream",
     "text": [
      "Le temps de vol de 3 est 7\n"
     ]
    }
   ],
   "source": [
    "def tempsVol(n):\n",
    "    \"\"\" Retourne le temps de vol de n \"\"\"\n",
    "    return(len(syracuse(n))-1)\n",
    "\n",
    "print(\"Le temps de vol de\", 3, \"est\", tempsVol(3))"
   ]
  },
  {
   "cell_type": "markdown",
   "metadata": {},
   "source": [
    "5. Ecrire une fonction qui, étant donné un paramètre `n_max` renvoie la liste des temps de vol de tous les entiers de 1 à `n_max`. *Indication*: utiliser une liste en compréhension."
   ]
  },
  {
   "cell_type": "code",
   "execution_count": 81,
   "metadata": {},
   "outputs": [
    {
     "name": "stdout",
     "output_type": "stream",
     "text": [
      "[0, 1, 7, 2, 5, 8, 16, 3, 19, 6, 14, 9, 9, 17, 17, 4, 12, 20, 20, 7, 7, 15, 15, 10, 23, 10, 111, 18, 18, 18, 106, 5, 26, 13, 13, 21, 21, 21, 34, 8, 109, 8, 29, 16, 16, 16, 104, 11, 24, 24, 24, 11, 11, 112, 112, 19, 32, 19, 32, 19, 19, 107, 107, 6, 27, 27, 27, 14, 14, 14, 102, 22, 115, 22, 14, 22, 22, 35, 35, 9, 22, 110, 110, 9, 9, 30, 30, 17, 30, 17, 92, 17, 17, 105, 105, 12, 118, 25, 25, 25]\n"
     ]
    }
   ],
   "source": [
    "def tempsVolListe(n_max):\n",
    "    \"\"\" Retourne la liste de tous les temps de vol de 1 à n_max \"\"\"\n",
    "    return[tempsVol(i) for i in range (1, n_max +1)]\n",
    "\n",
    "print(tempsVolListe(100))"
   ]
  },
  {
   "cell_type": "markdown",
   "metadata": {},
   "source": [
    "6. Déterminer quel entier entre 1 et 10000 a le plus grand temps de vol (réponse 6171 qui a le temps de vol 261)."
   ]
  },
  {
   "cell_type": "code",
   "execution_count": 83,
   "metadata": {},
   "outputs": [
    {
     "name": "stdout",
     "output_type": "stream",
     "text": [
      "l'entier 6171 a le plus grand temps de vol à 261\n"
     ]
    }
   ],
   "source": [
    "liste_temps= tempsVolListe(10000)\n",
    "temps_max=max(liste_temps)\n",
    "print(\"l'entier\", liste_temps.index(temps_max)+1, \"a le plus grand temps de vol à\", temps_max)"
   ]
  },
  {
   "cell_type": "markdown",
   "metadata": {},
   "source": [
    "7. L’altitude maximale de l'entier `n` est la plus grande valeur par laquelle passe `n` au cours de son vol. Déterminer quel entier entre 1 et 10000 a la plus grande altitude maximale (réponse 27114424, atteint par l'entier 9663). Ne pas hésiter à écrire de nouvelles fonctions pour cela."
   ]
  },
  {
   "cell_type": "code",
   "execution_count": 86,
   "metadata": {},
   "outputs": [
    {
     "name": "stdout",
     "output_type": "stream",
     "text": [
      "l'entier 9663 a la plus grande altitude maximale égale à 27114424\n"
     ]
    }
   ],
   "source": [
    "def alt_max(n):\n",
    "    return(max(syracuse(n)))\n",
    "def alt_max_liste(n_max):\n",
    "    return[alt_max(i) for i in range (1, n_max+1)]\n",
    "liste_alt=alt_max_liste(10000)\n",
    "altitude_max=max(liste_alt)\n",
    "print(\"l'entier\", liste_alt.index(altitude_max)+1, \"a la plus grande altitude maximale égale à\",altitude_max)"
   ]
  },
  {
   "cell_type": "markdown",
   "metadata": {},
   "source": [
    "---\n",
    "\n",
    "## 3. Carré magique\n",
    "\n",
    "*Définition* extraite de [l'article Wikipedia sur le carré magique](https://fr.wikipedia.org/wiki/Carr%C3%A9_magique_(math%C3%A9matiques)): en mathématiques, un carré magique d’ordre $n$ est composé de $n^2$ entiers strictement positifs, écrits sous la forme d’un tableau carré. Ces nombres sont disposés de sorte que leurs sommes sur chaque rangée, sur chaque colonne et sur chaque diagonale principale soient égales. On nomme alors *constante magique* la valeur de ces sommes. \n",
    "\n",
    "Un exemple de carré magique:\n",
    "\n",
    "$$\\begin{bmatrix} 4 & 14 & 15 & 1 \\\\ 9 & 7 & 6 & 12 \\\\ 5 & 11 & 10 & 8 \\\\ 16 & 2 & 3 & 13 \\end{bmatrix}$$\n",
    "\n",
    "1. Sans écrire de programme, vérifier qu'il s'agit bien d'un carré magique, et donner sa constante magique.\n",
    "\n",
    "Les questions qui suivent doivent être traitées dans un script, qui peut s'appeler `carre_magique.py`. Pensez à utiliser [PythonTutor](http://pythontutor.com/) et les outils de programmation pour résoudre les problèmes qui pourraient survenir.\n",
    "\n",
    "2. Créer une liste à deux dimensions affectée à  la variable `carre_mag` contenant ce carré magique."
   ]
  },
  {
   "cell_type": "markdown",
   "metadata": {},
   "source": [
    "3. Créer une deuxième liste affectée à la variable `carre_pas_mag` qui ne soit pas magique à partir du carré magique en changeant le 3 en 7. "
   ]
  },
  {
   "cell_type": "markdown",
   "metadata": {},
   "source": [
    "4. Créer une fonction qui affiche la liste comme un carré."
   ]
  },
  {
   "cell_type": "code",
   "execution_count": null,
   "metadata": {},
   "outputs": [],
   "source": [
    "def afficheCarre(carre):\n",
    "    \"\"\" Affiche la liste à 2 dimensions carre comme un carré\"\"\"\n",
    "    pass\n",
    "\n",
    "afficheCarre(carre_mag)\n",
    "afficheCarre(carre_pas_mag)\n"
   ]
  },
  {
   "cell_type": "markdown",
   "metadata": {},
   "source": [
    "5. Ecrire une fonction qui teste si les lignes du carré ont toutes la même somme. Cette fonction renvoie cette somme si c'est le cas, et `-1` sinon."
   ]
  },
  {
   "cell_type": "code",
   "execution_count": null,
   "metadata": {},
   "outputs": [],
   "source": [
    "def testLignesEgales(carre):\n",
    "    \"\"\" Renvoie la somme des éléments d'une ligne de la liste 2D carre si toutes les lignes ont la même somme, et -1 sinon \"\"\"\n",
    "    pass\n",
    "\n",
    "print(testLignesEgales(carre_mag))\n",
    "print(testLignesEgales(carre_pas_mag))\n"
   ]
  },
  {
   "cell_type": "markdown",
   "metadata": {},
   "source": [
    "6. Même question mais en testant les colonnes."
   ]
  },
  {
   "cell_type": "code",
   "execution_count": null,
   "metadata": {},
   "outputs": [],
   "source": [
    "def testColonnesEgales(carre):\n",
    "    \"\"\" Renvoie la somme des éléments d'une colonne de la liste 2D carre si toutes les colonnes ont la même somme, et -1 sinon \"\"\"\n",
    "    pass\n",
    "\n",
    "print(testColonnesEgales(carre_mag))\n",
    "print(testColonnesEgales(carre_pas_mag))"
   ]
  },
  {
   "cell_type": "markdown",
   "metadata": {},
   "source": [
    "7. Même question mais en testant les 2 diagonales."
   ]
  },
  {
   "cell_type": "code",
   "execution_count": null,
   "metadata": {},
   "outputs": [],
   "source": [
    "def testDiagonalesEgales(carre):\n",
    "    \"\"\" Renvoie la somme des éléments d'une diagonale de la liste 2D carre si les 2 diagonales ont la même somme, et -1 sinon \"\"\"\n",
    "    pass\n",
    "\n",
    "print(testDiagonalesEgales(carre_mag))\n",
    "print(testDiagonalesEgales(carre_pas_mag))"
   ]
  },
  {
   "cell_type": "markdown",
   "metadata": {},
   "source": [
    "8. Créer une fonction qui teste si un carré est magique. Elle retourne `True` si c'est le cas et `False` sinon."
   ]
  },
  {
   "cell_type": "code",
   "execution_count": null,
   "metadata": {},
   "outputs": [],
   "source": [
    "def estCarreMagique(carre):\n",
    "    \"\"\" Renvoie True si c'est un carre magique et False sinon\"\"\"\n",
    "    pass\n",
    "\n",
    "print(estCarreMagique(carre_mag))\n",
    "print(estCarreMagique(carre_pas_mag))"
   ]
  },
  {
   "cell_type": "markdown",
   "metadata": {},
   "source": [
    "9. Un carré d'ordre $n$ est *normal* s'il contient tous les entiers de 1 à $n^2$. Ecrire une fonction qui teste si un carré est normal (pas nécessairement magique)."
   ]
  },
  {
   "cell_type": "code",
   "execution_count": null,
   "metadata": {},
   "outputs": [],
   "source": [
    "def estNormal(carre):\n",
    "    \"\"\" Retourne True si contient toutes les valeurs de 1 à n^2 où n est la taille \n",
    "        du carré, et False sinon \"\"\"\n",
    "    pass\n",
    "\n",
    "print(estNormal(carre_mag))\n",
    "print(estNormal(carre_pas_mag))"
   ]
  }
 ],
 "metadata": {
  "kernelspec": {
   "display_name": "Python 3.10.4 ('l1-python')",
   "language": "python",
   "name": "python3"
  },
  "language_info": {
   "codemirror_mode": {
    "name": "ipython",
    "version": 3
   },
   "file_extension": ".py",
   "mimetype": "text/x-python",
   "name": "python",
   "nbconvert_exporter": "python",
   "pygments_lexer": "ipython3",
   "version": "3.10.4"
  },
  "vscode": {
   "interpreter": {
    "hash": "e4377e3bc83dc9e2f374dd22304596287fb799ebaff64c04024edbb3006521e3"
   }
  }
 },
 "nbformat": 4,
 "nbformat_minor": 1
}
